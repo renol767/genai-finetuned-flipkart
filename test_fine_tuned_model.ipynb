{
 "cells": [
  {
   "cell_type": "code",
   "execution_count": 1,
   "metadata": {},
   "outputs": [],
   "source": [
    "import os\n",
    "os.environ[\"GOOGLE_APPLICATION_CREDENTIALS\"] = \"/Users/renoldnatasasmita/Datalabs/Project/GenaiSpecialization/sa.json\""
   ]
  },
  {
   "cell_type": "code",
   "execution_count": 3,
   "metadata": {},
   "outputs": [
    {
     "name": "stdout",
     "output_type": "stream",
     "text": [
      "In furniture filling, microfiber refers to a synthetic fabric made from extremely fine polyester fibers.  These fibers are much thinner than a human hair, resulting in a material that's incredibly soft, plush, and resilient.  When used as a furniture filling, microfiber provides several advantages:\n",
      "\n",
      "* **Softness and Comfort:** Its fine fibers create a luxurious, comfortable feel.\n",
      "\n",
      "* **Durability:**  Microfiber is relatively strong and resistant to wear and tear, making it a long-lasting filling material.\n",
      "\n",
      "* **Resilience:** It retains its shape and plumpness well over time, unlike some other filling materials that can flatten easily.\n",
      "\n",
      "* **Hypoallergenic:** Microfiber is often promoted as hypoallergenic because it doesn't readily harbor dust mites or other allergens.  (Note: While it may reduce exposure, it's not completely allergen-proof.)\n",
      "\n",
      "* **Affordability:**  Microfiber is generally a less expensive filling option compared to materials like down or feather.\n",
      "\n",
      "It's important to note that \"microfiber\" in this context refers specifically to the *filling material* itself, not the fabric covering the furniture. While the furniture might have a microfiber *cover*, the inner filling is made from those tiny polyester fibers.  The microfiber filling is often used in cushions, pillows, and other furniture components where softness and resilience are desired.\n",
      "\n"
     ]
    }
   ],
   "source": [
    "# Call Fine Tuned Model\n",
    "import base64\n",
    "import vertexai\n",
    "from vertexai.generative_models import GenerativeModel, SafetySetting, Part\n",
    "\n",
    "generation_config = {\n",
    "    \"max_output_tokens\": 8192,\n",
    "    \"temperature\": 1,\n",
    "    \"top_p\": 0.95,\n",
    "}\n",
    "safety_settings = [\n",
    "    SafetySetting(\n",
    "        category=SafetySetting.HarmCategory.HARM_CATEGORY_HATE_SPEECH,\n",
    "        threshold=SafetySetting.HarmBlockThreshold.OFF\n",
    "    ),\n",
    "    SafetySetting(\n",
    "        category=SafetySetting.HarmCategory.HARM_CATEGORY_DANGEROUS_CONTENT,\n",
    "        threshold=SafetySetting.HarmBlockThreshold.OFF\n",
    "    ),\n",
    "    SafetySetting(\n",
    "        category=SafetySetting.HarmCategory.HARM_CATEGORY_SEXUALLY_EXPLICIT,\n",
    "        threshold=SafetySetting.HarmBlockThreshold.OFF\n",
    "    ),\n",
    "    SafetySetting(\n",
    "        category=SafetySetting.HarmCategory.HARM_CATEGORY_HARASSMENT,\n",
    "        threshold=SafetySetting.HarmBlockThreshold.OFF\n",
    "    ),\n",
    "]\n",
    "question = \"What is meant by Microfiber in furniture filling?\"\n",
    "vertexai.init(project=\"844021890758\", location=\"asia-southeast1\")\n",
    "model = GenerativeModel(\n",
    "    \"projects/844021890758/locations/asia-southeast1/endpoints/5071110355023822848\",\n",
    ")\n",
    "chat = model.start_chat()\n",
    "ans = chat.send_message(question, generation_config=generation_config, safety_settings=safety_settings)\n",
    "print(ans.candidates[0].content.parts[0].text)\n"
   ]
  },
  {
   "cell_type": "code",
   "execution_count": 4,
   "metadata": {},
   "outputs": [
    {
     "name": "stdout",
     "output_type": "stream",
     "text": [
      "In furniture filling, microfiber refers to a synthetic fiber made from polyester or a blend of polyester and other materials.  It's not a single specific fiber, but rather a category of very fine synthetic fibers.  These fibers are incredibly thin, creating a material that's:\n",
      "\n",
      "* **Soft and plush:** This contributes to the comfort and feel of the furniture.\n",
      "* **Durable:**  Microfiber is relatively resistant to wear and tear, making it a good choice for high-use furniture.\n",
      "* **Lightweight:**  It's less dense than some other filling materials, which can make furniture easier to move.\n",
      "* **Affordable:** Compared to natural filling materials like down or feathers, microfiber is generally less expensive.\n",
      "\n",
      "It's important to note that while \"microfiber\" sounds luxurious, the quality of microfiber filling can vary significantly depending on the manufacturing process and the specific blend of fibers used.  Some microfiber fillings may be more durable and resilient than others.  It's not necessarily an indicator of high-end quality in itself, but rather a description of the type of synthetic fiber used.\n",
      "\n"
     ]
    }
   ],
   "source": [
    "# Call Fine Tuned Model\n",
    "import base64\n",
    "import vertexai\n",
    "from vertexai.generative_models import GenerativeModel, SafetySetting, Part\n",
    "\n",
    "generation_config = {\n",
    "    \"max_output_tokens\": 4092,\n",
    "    \"temperature\": 2,\n",
    "    \"top_p\": 0.8,\n",
    "}\n",
    "safety_settings = [\n",
    "    SafetySetting(\n",
    "        category=SafetySetting.HarmCategory.HARM_CATEGORY_HATE_SPEECH,\n",
    "        threshold=SafetySetting.HarmBlockThreshold.OFF\n",
    "    ),\n",
    "    SafetySetting(\n",
    "        category=SafetySetting.HarmCategory.HARM_CATEGORY_DANGEROUS_CONTENT,\n",
    "        threshold=SafetySetting.HarmBlockThreshold.OFF\n",
    "    )\n",
    "]\n",
    "question = \"What is meant by Microfiber in furniture filling?\"\n",
    "vertexai.init(project=\"844021890758\", location=\"asia-southeast1\")\n",
    "model = GenerativeModel(\n",
    "    \"projects/844021890758/locations/asia-southeast1/endpoints/5071110355023822848\",\n",
    ")\n",
    "chat = model.start_chat()\n",
    "ans = chat.send_message(question, generation_config=generation_config, safety_settings=safety_settings)\n",
    "print(ans.candidates[0].content.parts[0].text)\n"
   ]
  },
  {
   "cell_type": "code",
   "execution_count": null,
   "metadata": {},
   "outputs": [],
   "source": []
  }
 ],
 "metadata": {
  "kernelspec": {
   "display_name": "gen-ai",
   "language": "python",
   "name": "python3"
  },
  "language_info": {
   "codemirror_mode": {
    "name": "ipython",
    "version": 3
   },
   "file_extension": ".py",
   "mimetype": "text/x-python",
   "name": "python",
   "nbconvert_exporter": "python",
   "pygments_lexer": "ipython3",
   "version": "3.10.13"
  }
 },
 "nbformat": 4,
 "nbformat_minor": 2
}
